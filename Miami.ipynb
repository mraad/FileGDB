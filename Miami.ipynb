{
 "cells": [
  {
   "cell_type": "markdown",
   "metadata": {
    "pycharm": {
     "name": "#%% md\n"
    }
   },
   "source": [
    "## Aggregate locations of dense [AIS broadcast reports](https://marinecadastre.gov/ais) at the port of Miami, FL."
   ]
  },
  {
   "cell_type": "code",
   "execution_count": null,
   "metadata": {
    "pycharm": {
     "name": "#%%\n"
    }
   },
   "outputs": [],
   "source": [
    "gdb_path = os.path.join('data','Miami.gdb')"
   ]
  },
  {
   "cell_type": "code",
   "execution_count": null,
   "metadata": {},
   "outputs": [],
   "source": [
    "df = spark\\\n",
    "    .read \\\n",
    "    .format(\"gdb\") \\\n",
    "    .options(path=gdb_path) \\\n",
    "    .load()\\\n",
    "    .show(truncate=False)"
   ]
  },
  {
   "cell_type": "markdown",
   "metadata": {
    "pycharm": {
     "name": "#%% md\n"
    }
   },
   "source": [
    "### Create a Spark Dataframe and register it as a table for upcoming SQL operations"
   ]
  },
  {
   "cell_type": "code",
   "execution_count": null,
   "metadata": {
    "pycharm": {
     "name": "#%%\n"
    }
   },
   "outputs": [],
   "source": [
    "df = spark\\\n",
    "    .read \\\n",
    "    .format(\"gdb\") \\\n",
    "    .options(path=gdb_path, name=\"Broadcast\") \\\n",
    "    .load()"
   ]
  },
  {
   "cell_type": "code",
   "execution_count": null,
   "metadata": {},
   "outputs": [],
   "source": [
    "df.printSchema()"
   ]
  },
  {
   "cell_type": "code",
   "execution_count": null,
   "metadata": {
    "pycharm": {
     "name": "#%%\n"
    }
   },
   "outputs": [],
   "source": [
    "df.createOrReplaceTempView(\"Broadcast\")"
   ]
  },
  {
   "cell_type": "markdown",
   "metadata": {
    "pycharm": {
     "name": "#%% md\n"
    }
   },
   "source": [
    "Create temp table `QR` by mapping a `Broadcast` event to a cell location.  The cell size is 0.001 degrees."
   ]
  },
  {
   "cell_type": "code",
   "execution_count": null,
   "metadata": {
    "pycharm": {
     "name": "#%%\n"
    }
   },
   "outputs": [],
   "source": [
    "cell_1 = 0.001\n",
    "cell_2 = cell_1 * 0.5\n",
    "\n",
    "sql(f\"\"\"\n",
    "select\n",
    "cast(floor(Shape.x/{cell_1}D) as INT) as q,\n",
    "cast(floor(Shape.y/{cell_1}D) as INT) as r\n",
    "from Broadcast\n",
    "\"\"\")\\\n",
    "    .createOrReplaceTempView(\"QR\")"
   ]
  },
  {
   "cell_type": "markdown",
   "metadata": {
    "pycharm": {
     "name": "#%% md\n"
    }
   },
   "source": [
    "Aggregate by cell and report back only the cells with more that 100 `Broadcast` events.\n",
    "Map each cell q/r to an x/y geo location and convert the Spark dataframe into a Pandas dataframe."
   ]
  },
  {
   "cell_type": "code",
   "execution_count": null,
   "metadata": {
    "pycharm": {
     "name": "#%%\n"
    }
   },
   "outputs": [],
   "source": [
    "sql(f\"\"\"\n",
    "select\n",
    "q*{cell_1}D+{cell_2}D as x,\n",
    "r*{cell_1}D+{cell_2}D as y,\n",
    "count(1) as pop\n",
    "from QR\n",
    "group by q,r\n",
    "having pop > 100\n",
    "\"\"\")\\\n",
    "    .show()"
   ]
  }
 ],
 "metadata": {
  "kernelspec": {
   "display_name": "Python 3 (ipykernel)",
   "language": "python",
   "name": "python3"
  },
  "language_info": {
   "codemirror_mode": {
    "name": "ipython",
    "version": 3
   },
   "file_extension": ".py",
   "mimetype": "text/x-python",
   "name": "python",
   "nbconvert_exporter": "python",
   "pygments_lexer": "ipython3",
   "version": "3.9.13"
  }
 },
 "nbformat": 4,
 "nbformat_minor": 4
}
