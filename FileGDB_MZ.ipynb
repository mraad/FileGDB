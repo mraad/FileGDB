{
 "cells": [
  {
   "cell_type": "markdown",
   "id": "7c5fbe59-9a4d-471e-ae63-e90a0435ecc0",
   "metadata": {
    "pycharm": {
     "name": "#%% md\n"
    }
   },
   "source": [
    "## Notebook to demo reading GDB feature class.\n",
    "\n",
    "Unzip the test.gdb.zip in the data folder."
   ]
  },
  {
   "cell_type": "markdown",
   "id": "a74b18df-ab2f-4b43-8940-5f41cdf82a74",
   "metadata": {
    "pycharm": {
     "name": "#%% md\n"
    }
   },
   "source": [
    "### Show the catalog."
   ]
  },
  {
   "cell_type": "code",
   "execution_count": 1,
   "id": "9c6df2e1-42b5-4439-96e2-98977bfe317f",
   "metadata": {
    "pycharm": {
     "name": "#%%\n"
    }
   },
   "outputs": [
    {
     "name": "stdout",
     "output_type": "stream",
     "text": [
      "+---+-------------------------+----------+\n",
      "|ID |Name                     |FileFormat|\n",
      "+---+-------------------------+----------+\n",
      "|1  |GDB_SystemCatalog        |0         |\n",
      "|2  |GDB_DBTune               |0         |\n",
      "|3  |GDB_SpatialRefs          |0         |\n",
      "|4  |GDB_Items                |0         |\n",
      "|5  |GDB_ItemTypes            |0         |\n",
      "|6  |GDB_ItemRelationships    |0         |\n",
      "|7  |GDB_ItemRelationshipTypes|0         |\n",
      "|8  |GDB_ReplicaLog           |2         |\n",
      "|10 |PointXY                  |0         |\n",
      "|12 |PointM                   |0         |\n",
      "|13 |PointZ                   |0         |\n",
      "|14 |PointMZ                  |0         |\n",
      "+---+-------------------------+----------+\n",
      "\n"
     ]
    }
   ],
   "source": [
    "spark\\\n",
    "    .read\\\n",
    "    .format(\"gdb\")\\\n",
    "    .options(path=\"data/Points.gdb\")\\\n",
    "    .load()\\\n",
    "    .show(truncate=False)"
   ]
  },
  {
   "cell_type": "markdown",
   "id": "0ab912f3-a840-4c0f-b6fc-57d2b969f503",
   "metadata": {
    "pycharm": {
     "name": "#%% md\n"
    }
   },
   "source": [
    "### Read `Test` feature class."
   ]
  },
  {
   "cell_type": "code",
   "execution_count": 19,
   "id": "c5798903-f77a-4b4d-8c18-a9a755877812",
   "metadata": {
    "pycharm": {
     "name": "#%%\n"
    }
   },
   "outputs": [],
   "source": [
    "df = spark\\\n",
    "    .read\\\n",
    "    .format(\"gdb\")\\\n",
    "    .options(path=\"data/Points.gdb\", name=\"PointMZ\")\\\n",
    "    .load()"
   ]
  },
  {
   "cell_type": "code",
   "execution_count": 20,
   "id": "30c5bd7e-4aae-4b05-9e08-49d2724e79b7",
   "metadata": {
    "pycharm": {
     "name": "#%%\n"
    }
   },
   "outputs": [
    {
     "name": "stdout",
     "output_type": "stream",
     "text": [
      "root\n",
      " |-- OBJECTID: integer (nullable = false)\n",
      " |-- Shape: struct (nullable = true)\n",
      " |    |-- x: double (nullable = true)\n",
      " |    |-- y: double (nullable = true)\n",
      " |    |-- z: double (nullable = true)\n",
      " |    |-- m: double (nullable = true)\n",
      "\n"
     ]
    }
   ],
   "source": [
    "df.printSchema()"
   ]
  },
  {
   "cell_type": "markdown",
   "id": "b4e19a7b-2788-4635-87ed-b324bcab82c8",
   "metadata": {
    "pycharm": {
     "name": "#%% md\n"
    }
   },
   "source": [
    "### Get `Shape` field metadata."
   ]
  },
  {
   "cell_type": "code",
   "execution_count": 21,
   "id": "d30eef63-7fed-4589-8f0e-3637d57f5320",
   "metadata": {
    "pycharm": {
     "name": "#%%\n"
    }
   },
   "outputs": [
    {
     "name": "stdout",
     "output_type": "stream",
     "text": [
      "1\n",
      "GEOGCS[\"GCS_WGS_1984\",DATUM[\"D_WGS_1984\",SPHEROID[\"WGS_1984\",6378137.0,298.257223563]],PRIMEM[\"Greenwich\",0.0],UNIT[\"Degree\",0.0174532925199433]]\n",
      "True True\n",
      "41.16193872000008\n",
      "31.531458025000063\n",
      "-104.85697126399998\n",
      "-91.32224163999996\n"
     ]
    }
   ],
   "source": [
    "for f in df.schema:\n",
    "    if f.name == 'Shape':\n",
    "        print(f.metadata['geomType'])\n",
    "        print(f.metadata['srsWKT'])\n",
    "        print(f.metadata['hasM'], f.metadata['hasZ'])\n",
    "        print(f.metadata['ymax'])\n",
    "        print(f.metadata['ymin'])\n",
    "        print(f.metadata['xmin'])\n",
    "        print(f.metadata['xmax'])\n",
    "        break"
   ]
  },
  {
   "cell_type": "code",
   "execution_count": 22,
   "id": "34713615-398e-40cf-a882-e3657ac44175",
   "metadata": {
    "pycharm": {
     "name": "#%%\n"
    }
   },
   "outputs": [
    {
     "name": "stdout",
     "output_type": "stream",
     "text": [
      "+-------------------+------------------+---+------------+\n",
      "|x                  |y                 |z  |m           |\n",
      "+-------------------+------------------+---+------------+\n",
      "|-104.85697126399998|33.39062418300006 |0.0|-100000.0001|\n",
      "|-97.68058989699995 |41.16193872000008 |0.0|-100000.0001|\n",
      "|-91.32224163999996 |31.531458025000063|0.0|-100000.0001|\n",
      "+-------------------+------------------+---+------------+\n",
      "\n"
     ]
    }
   ],
   "source": [
    "df\\\n",
    "    .select(\"Shape.x\",\"Shape.y\",\"Shape.z\",\"Shape.m\")\\\n",
    "    .show(truncate=False)"
   ]
  }
 ],
 "metadata": {
  "kernelspec": {
   "display_name": "Python 3 (ipykernel)",
   "language": "python",
   "name": "python3"
  },
  "language_info": {
   "codemirror_mode": {
    "name": "ipython",
    "version": 3
   },
   "file_extension": ".py",
   "mimetype": "text/x-python",
   "name": "python",
   "nbconvert_exporter": "python",
   "pygments_lexer": "ipython3",
   "version": "3.10.6"
  }
 },
 "nbformat": 4,
 "nbformat_minor": 5
}
