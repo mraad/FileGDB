{
 "cells": [
  {
   "cell_type": "markdown",
   "id": "7c5fbe59-9a4d-471e-ae63-e90a0435ecc0",
   "metadata": {
    "pycharm": {
     "name": "#%% md\n"
    }
   },
   "source": [
    "## Notebook to demo reading GDB feature class.\n",
    "\n",
    "Unzip the test.gdb.zip in the data folder."
   ]
  },
  {
   "cell_type": "markdown",
   "id": "a74b18df-ab2f-4b43-8940-5f41cdf82a74",
   "metadata": {
    "pycharm": {
     "name": "#%% md\n"
    }
   },
   "source": [
    "### Show the catalog."
   ]
  },
  {
   "cell_type": "code",
   "execution_count": null,
   "id": "9c6df2e1-42b5-4439-96e2-98977bfe317f",
   "metadata": {
    "pycharm": {
     "name": "#%%\n"
    }
   },
   "outputs": [],
   "source": [
    "spark\\\n",
    "    .read\\\n",
    "    .format(\"gdb\")\\\n",
    "    .options(path=\"data/test.gdb\")\\\n",
    "    .load()\\\n",
    "    .show(truncate=False)"
   ]
  },
  {
   "cell_type": "markdown",
   "id": "0ab912f3-a840-4c0f-b6fc-57d2b969f503",
   "metadata": {
    "pycharm": {
     "name": "#%% md\n"
    }
   },
   "source": [
    "### Read `Test` feature class."
   ]
  },
  {
   "cell_type": "code",
   "execution_count": null,
   "id": "c5798903-f77a-4b4d-8c18-a9a755877812",
   "metadata": {
    "pycharm": {
     "name": "#%%\n"
    }
   },
   "outputs": [],
   "source": [
    "df = spark\\\n",
    "    .read\\\n",
    "    .format(\"gdb\")\\\n",
    "    .options(path=\"data/test.gdb\", name=\"TestMZ\")\\\n",
    "    .load()"
   ]
  },
  {
   "cell_type": "code",
   "execution_count": null,
   "id": "30c5bd7e-4aae-4b05-9e08-49d2724e79b7",
   "metadata": {
    "pycharm": {
     "name": "#%%\n"
    }
   },
   "outputs": [],
   "source": [
    "df.printSchema()"
   ]
  },
  {
   "cell_type": "markdown",
   "id": "b4e19a7b-2788-4635-87ed-b324bcab82c8",
   "metadata": {
    "pycharm": {
     "name": "#%% md\n"
    }
   },
   "source": [
    "### Get `Shape` field metadata."
   ]
  },
  {
   "cell_type": "code",
   "execution_count": null,
   "id": "d30eef63-7fed-4589-8f0e-3637d57f5320",
   "metadata": {
    "pycharm": {
     "name": "#%%\n"
    }
   },
   "outputs": [],
   "source": [
    "for f in df.schema:\n",
    "    if f.name == 'Shape':\n",
    "        print(f.metadata['geomType'])\n",
    "        print(f.metadata['srsWKT'])\n",
    "        print(f.metadata['hasM'], f.metadata['hasZ'])\n",
    "        print(f.metadata['ymax'])\n",
    "        print(f.metadata['ymin'])\n",
    "        print(f.metadata['xmin'])\n",
    "        print(f.metadata['xmax'])\n",
    "        break"
   ]
  },
  {
   "cell_type": "code",
   "execution_count": null,
   "id": "34713615-398e-40cf-a882-e3657ac44175",
   "metadata": {
    "pycharm": {
     "name": "#%%\n"
    }
   },
   "outputs": [],
   "source": [
    "df\\\n",
    "    .select(\"Shape.parts\",\"Shape.coords\")\\\n",
    "    .show(truncate=False)"
   ]
  }
 ],
 "metadata": {
  "kernelspec": {
   "display_name": "Python 3 (ipykernel)",
   "language": "python",
   "name": "python3"
  },
  "language_info": {
   "codemirror_mode": {
    "name": "ipython",
    "version": 3
   },
   "file_extension": ".py",
   "mimetype": "text/x-python",
   "name": "python",
   "nbconvert_exporter": "python",
   "pygments_lexer": "ipython3",
   "version": "3.9.13"
  }
 },
 "nbformat": 4,
 "nbformat_minor": 5
}
