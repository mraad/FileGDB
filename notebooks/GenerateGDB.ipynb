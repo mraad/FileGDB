{
 "cells": [
  {
   "cell_type": "markdown",
   "id": "a90f6e00-0d71-43d7-a643-e305538f2dfc",
   "metadata": {},
   "source": [
    "### References:\n",
    "\n",
    "- https://pcjericks.github.io/py-gdalogr-cookbook/geometry.html"
   ]
  },
  {
   "cell_type": "code",
   "execution_count": null,
   "id": "7ee0317f-5d15-449f-82bd-5839d26d3830",
   "metadata": {},
   "outputs": [],
   "source": [
    "import os\n",
    "import random\n",
    "\n",
    "import pyspark.sql.functions as F\n",
    "import sparkgeo.functions as S\n",
    "from osgeo import ogr, osr"
   ]
  },
  {
   "cell_type": "code",
   "execution_count": null,
   "id": "017a1ced-5e1b-43ac-b0bc-4a98f7ee6ce6",
   "metadata": {},
   "outputs": [],
   "source": [
    "gdb = ogr.GetDriverByName(\"OpenFileGDB\")"
   ]
  },
  {
   "cell_type": "code",
   "execution_count": null,
   "id": "09ac6c6b-4b31-4669-a89f-a84a95f5dc1e",
   "metadata": {},
   "outputs": [],
   "source": [
    "gdb.GetName()"
   ]
  },
  {
   "cell_type": "code",
   "execution_count": null,
   "id": "4fc7e4b3-413c-4f03-b8af-42873597e962",
   "metadata": {},
   "outputs": [],
   "source": [
    "gdb_path = \"pointm.gdb\"\n",
    "gdb_name = \"points\""
   ]
  },
  {
   "cell_type": "code",
   "execution_count": null,
   "id": "df92c664-dc83-4805-bc23-d0ffb56f393c",
   "metadata": {},
   "outputs": [],
   "source": [
    "if os.path.exists(gdb_path):\n",
    "    gdb.DeleteDataSource(gdb_path)"
   ]
  },
  {
   "cell_type": "raw",
   "id": "fe9df783-5e3d-4a78-b107-006a37aaa5dc",
   "metadata": {},
   "source": [
    "# Create the data source\n",
    "data_source = gdb.CreateDataSource(gdb_path)\n",
    "\n",
    "if data_source is None:\n",
    "    raise Exception(f\"Cannot create {gdb_path}.\")\n",
    "\n",
    "# Create the layer\n",
    "srs = osr.SpatialReference()\n",
    "srs.ImportFromEPSG(4326)\n",
    "layer = data_source.CreateLayer(gdb_name, srs, ogr.wkbMultiPointM)\n",
    "\n",
    "# Define and create an ID field\n",
    "id_field = ogr.FieldDefn(\"ID\", ogr.OFTInteger)\n",
    "layer.CreateField(id_field)\n",
    "\n",
    "# Generate random points with M values\n",
    "num_points = 10\n",
    "x_min, x_max, y_min, y_max = -180, 180, -90, 90\n",
    "m_min, m_max = 0, 100\n",
    "\n",
    "for i in range(num_points):\n",
    "    multipoint = ogr.Geometry(ogr.wkbMultiPointM)\n",
    "\n",
    "    point = ogr.Geometry(ogr.wkbPointM)\n",
    "    x = random.uniform(x_min, x_max)\n",
    "    y = random.uniform(y_min, y_max)\n",
    "    m = random.uniform(m_min, m_max)\n",
    "    point.AddPointM(x, y, m)\n",
    "    multipoint.AddGeometry(point)\n",
    "    point.Destroy()\n",
    "\n",
    "    point = ogr.Geometry(ogr.wkbPointM)\n",
    "    x = random.uniform(x_min, x_max)\n",
    "    y = random.uniform(y_min, y_max)\n",
    "    m = random.uniform(m_min, m_max)\n",
    "    # m = float(\"NaN\")\n",
    "    point.AddPointM(x, y, m)\n",
    "    multipoint.AddGeometry(point)\n",
    "    point.Destroy()\n",
    "\n",
    "    # point = ogr.Geometry(ogr.wkbPointM)\n",
    "    # x = random.uniform(x_min, x_max)\n",
    "    # y = random.uniform(y_min, y_max)\n",
    "    # m = random.uniform(m_min, m_max)\n",
    "    # point.AddPointM(x, y, m)\n",
    "\n",
    "    feature = ogr.Feature(layer.GetLayerDefn())\n",
    "    if i < 5:\n",
    "        feature.SetGeometry(multipoint)\n",
    "    feature.SetField(\"ID\", i)\n",
    "    layer.CreateFeature(feature)\n",
    "    feature.Destroy()\n",
    "    multipoint.Destroy()\n",
    "\n",
    "# Close and clean up the data source\n",
    "data_source.Destroy()"
   ]
  },
  {
   "cell_type": "code",
   "execution_count": null,
   "id": "d18c29fd-e127-4659-8827-c507ea8c940f",
   "metadata": {},
   "outputs": [],
   "source": [
    "# Create the data source\n",
    "data_source = gdb.CreateDataSource(gdb_path)\n",
    "\n",
    "if data_source is None:\n",
    "    raise Exception(f\"Cannot create {gdb_path}.\")\n",
    "\n",
    "# Create the layer\n",
    "srs = osr.SpatialReference()\n",
    "srs.ImportFromEPSG(4326)\n",
    "layer = data_source.CreateLayer(gdb_name, srs, ogr.wkbPointZM)\n",
    "\n",
    "# Define and create an ID field\n",
    "id_field = ogr.FieldDefn(\"ID\", ogr.OFTInteger)\n",
    "layer.CreateField(id_field)\n",
    "\n",
    "# Generate random points with M values\n",
    "num_points = 10\n",
    "x_min, x_max, y_min, y_max = -180, 180, -90, 90\n",
    "m_min, m_max = 0, 100\n",
    "\n",
    "for i in range(num_points):\n",
    "    point = ogr.Geometry(ogr.wkbPointZM)\n",
    "    x = random.uniform(x_min, x_max)\n",
    "    y = random.uniform(y_min, y_max)\n",
    "    m = random.uniform(m_min, m_max)\n",
    "    point.AddPointZM(x, y, m, 0.0)\n",
    "    # point.AddPointM(x, y, m)\n",
    "\n",
    "    feature = ogr.Feature(layer.GetLayerDefn())\n",
    "    if i < 5:\n",
    "        feature.SetGeometry(point)\n",
    "    feature.SetField(\"ID\", i)\n",
    "    layer.CreateFeature(feature)\n",
    "    feature.Destroy()\n",
    "    point.Destroy()\n",
    "\n",
    "# Close and clean up the data source\n",
    "data_source.Destroy()"
   ]
  },
  {
   "cell_type": "code",
   "execution_count": null,
   "id": "f18834ec-b4bd-4a95-88c1-9a27dccb7812",
   "metadata": {},
   "outputs": [],
   "source": [
    "df = spark.read.format(\"gdb\").options(path=gdb_path, name=gdb_name).load()"
   ]
  },
  {
   "cell_type": "code",
   "execution_count": null,
   "id": "d178ffca-4306-44e4-b706-6218b427f146",
   "metadata": {},
   "outputs": [],
   "source": [
    "df.printSchema()"
   ]
  },
  {
   "cell_type": "code",
   "execution_count": null,
   "id": "6aba1bd2-ae30-480b-946f-d13a960237f8",
   "metadata": {},
   "outputs": [],
   "source": [
    "df.select(\n",
    "    \"ID\",\n",
    "    \"Shape.x\",\n",
    "    \"Shape.y\",\n",
    "    \"Shape.z\",\n",
    "    \"Shape.m\",    \n",
    ").show(truncate=False, vertical=True)"
   ]
  }
 ],
 "metadata": {
  "kernelspec": {
   "display_name": "Python 3 (ipykernel)",
   "language": "python",
   "name": "python3"
  },
  "language_info": {
   "codemirror_mode": {
    "name": "ipython",
    "version": 3
   },
   "file_extension": ".py",
   "mimetype": "text/x-python",
   "name": "python",
   "nbconvert_exporter": "python",
   "pygments_lexer": "ipython3",
   "version": "3.11.13"
  }
 },
 "nbformat": 4,
 "nbformat_minor": 5
}
