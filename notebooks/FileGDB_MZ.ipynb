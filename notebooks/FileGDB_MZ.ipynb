{
 "cells": [
  {
   "cell_type": "markdown",
   "id": "a74b18df-ab2f-4b43-8940-5f41cdf82a74",
   "metadata": {
    "pycharm": {
     "name": "#%% md\n"
    }
   },
   "source": [
    "### Show the catalog."
   ]
  },
  {
   "cell_type": "code",
   "execution_count": 1,
   "id": "88feaec6-a13d-420b-af61-a996397f8f63",
   "metadata": {},
   "outputs": [],
   "source": [
    "path=\"../data/FileGDBTest.gdb\""
   ]
  },
  {
   "cell_type": "code",
   "execution_count": 2,
   "id": "9c6df2e1-42b5-4439-96e2-98977bfe317f",
   "metadata": {
    "pycharm": {
     "name": "#%%\n"
    }
   },
   "outputs": [
    {
     "name": "stdout",
     "output_type": "stream",
     "text": [
      "+---+-------------------------+----------+\n",
      "|ID |Name                     |FileFormat|\n",
      "+---+-------------------------+----------+\n",
      "|1  |GDB_SystemCatalog        |0         |\n",
      "|2  |GDB_DBTune               |0         |\n",
      "|3  |GDB_SpatialRefs          |0         |\n",
      "|4  |GDB_Items                |0         |\n",
      "|5  |GDB_ItemTypes            |0         |\n",
      "|6  |GDB_ItemRelationships    |0         |\n",
      "|7  |GDB_ItemRelationshipTypes|0         |\n",
      "|8  |GDB_ReplicaLog           |2         |\n",
      "|21 |PolylineM                |0         |\n",
      "|22 |PolygonZ                 |0         |\n",
      "+---+-------------------------+----------+\n",
      "\n"
     ]
    },
    {
     "name": "stderr",
     "output_type": "stream",
     "text": [
      "                                                                                \r"
     ]
    }
   ],
   "source": [
    "spark.read.format(\"gdb\").options(path=path).load().show(truncate=False)"
   ]
  },
  {
   "cell_type": "code",
   "execution_count": 8,
   "id": "c5798903-f77a-4b4d-8c18-a9a755877812",
   "metadata": {
    "pycharm": {
     "name": "#%%\n"
    }
   },
   "outputs": [],
   "source": [
    "df = spark.read.format(\"gdb\").options(path=path, name=\"PolylineM\").load()"
   ]
  },
  {
   "cell_type": "code",
   "execution_count": 9,
   "id": "30c5bd7e-4aae-4b05-9e08-49d2724e79b7",
   "metadata": {
    "pycharm": {
     "name": "#%%\n"
    }
   },
   "outputs": [
    {
     "name": "stdout",
     "output_type": "stream",
     "text": [
      "root\n",
      " |-- OBJECTID: integer (nullable = false)\n",
      " |-- Shape: struct (nullable = true)\n",
      " |    |-- xmin: double (nullable = true)\n",
      " |    |-- ymin: double (nullable = true)\n",
      " |    |-- xmax: double (nullable = true)\n",
      " |    |-- ymax: double (nullable = true)\n",
      " |    |-- parts: array (nullable = true)\n",
      " |    |    |-- element: integer (containsNull = true)\n",
      " |    |-- coords: array (nullable = true)\n",
      " |    |    |-- element: double (containsNull = true)\n",
      " |-- Shape_Length: double (nullable = true)\n",
      "\n"
     ]
    }
   ],
   "source": [
    "df.printSchema()"
   ]
  },
  {
   "cell_type": "markdown",
   "id": "b4e19a7b-2788-4635-87ed-b324bcab82c8",
   "metadata": {
    "pycharm": {
     "name": "#%% md\n"
    }
   },
   "source": [
    "### Get `Shape` field metadata."
   ]
  },
  {
   "cell_type": "code",
   "execution_count": 10,
   "id": "d30eef63-7fed-4589-8f0e-3637d57f5320",
   "metadata": {
    "pycharm": {
     "name": "#%%\n"
    }
   },
   "outputs": [
    {
     "name": "stdout",
     "output_type": "stream",
     "text": [
      "3\n",
      "hasM=True hasZ=False\n",
      "-118.61027461499998\n",
      "-76.71871991899997\n",
      "30.238386580000054\n",
      "46.47453488100004\n",
      "NaN\n",
      "NaN\n"
     ]
    }
   ],
   "source": [
    "for f in df.schema:\n",
    "    if f.name == \"Shape\":\n",
    "        print(f.metadata[\"geomType\"])\n",
    "        #print(f.metadata[\"srsWKT\"])\n",
    "        print(f\"hasM={f.metadata['hasM']} hasZ={f.metadata['hasZ']}\")\n",
    "        print(f.metadata[\"xmin\"])\n",
    "        print(f.metadata[\"xmax\"])\n",
    "        print(f.metadata[\"ymin\"])\n",
    "        print(f.metadata[\"ymax\"])\n",
    "        print(f.metadata[\"mmin\"])\n",
    "        print(f.metadata[\"mmax\"])\n",
    "        break"
   ]
  },
  {
   "cell_type": "code",
   "execution_count": 11,
   "id": "34713615-398e-40cf-a882-e3657ac44175",
   "metadata": {
    "pycharm": {
     "name": "#%%\n"
    }
   },
   "outputs": [
    {
     "name": "stdout",
     "output_type": "stream",
     "text": [
      "-RECORD 0-------------------------------------------------------------------------------------------------------------------------------------------------------------------------------------------\n",
      " OBJECTID | 1                                                                                                                                                                                       \n",
      " coords   | [-118.61027461499998, 40.121830087000035, 100.0, -100.46826273899995, 46.47453488100007, 200.0, -76.71871991899997, 38.870409023000036, 300.0]                                          \n",
      "-RECORD 1-------------------------------------------------------------------------------------------------------------------------------------------------------------------------------------------\n",
      " OBJECTID | 2                                                                                                                                                                                       \n",
      " coords   | [-112.975255775, 33.505695640000056, NaN, -97.88440044199996, 39.46711251900007, NaN, -91.72711156199995, 38.311803644000065, NaN, -82.49117824299998, 30.238386580000054, NaN]         \n",
      "-RECORD 2-------------------------------------------------------------------------------------------------------------------------------------------------------------------------------------------\n",
      " OBJECTID | 3                                                                                                                                                                                       \n",
      " coords   | [-102.41990341099995, 31.979840184000068, 100.0, -96.29010242799995, 33.91727497100004, NaN, -92.57923636299995, 32.93079770500003, NaN, -92.13943001399997, 31.979840184000068, 400.0] \n",
      "\n"
     ]
    }
   ],
   "source": [
    "df.select(\n",
    "    \"OBJECTID\",\n",
    "    # \"Shape.parts\",\n",
    "    \"Shape.coords\"\n",
    ").show(truncate=False, vertical=True)"
   ]
  }
 ],
 "metadata": {
  "kernelspec": {
   "display_name": "Python 3 (ipykernel)",
   "language": "python",
   "name": "python3"
  },
  "language_info": {
   "codemirror_mode": {
    "name": "ipython",
    "version": 3
   },
   "file_extension": ".py",
   "mimetype": "text/x-python",
   "name": "python",
   "nbconvert_exporter": "python",
   "pygments_lexer": "ipython3",
   "version": "3.11.13"
  }
 },
 "nbformat": 4,
 "nbformat_minor": 5
}
