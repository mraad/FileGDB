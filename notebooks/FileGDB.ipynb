{
 "cells": [
  {
   "cell_type": "markdown",
   "id": "7c5fbe59-9a4d-471e-ae63-e90a0435ecc0",
   "metadata": {
    "pycharm": {
     "name": "#%% md\n"
    }
   },
   "source": [
    "## Notebook to demo reading GDB feature class.\n",
    "\n",
    "Unzip the test.gdb.zip in the data folder.\n",
    "\n",
    "```shell\n",
    "uv pip install pyproj\n",
    "```"
   ]
  },
  {
   "cell_type": "code",
   "execution_count": 1,
   "id": "b5040fbd-84cb-4f12-8e96-ab73ee126c78",
   "metadata": {},
   "outputs": [],
   "source": [
    "from pyproj import CRS"
   ]
  },
  {
   "cell_type": "markdown",
   "id": "a74b18df-ab2f-4b43-8940-5f41cdf82a74",
   "metadata": {
    "pycharm": {
     "name": "#%% md\n"
    }
   },
   "source": [
    "### Show the catalog."
   ]
  },
  {
   "cell_type": "code",
   "execution_count": 2,
   "id": "9c6df2e1-42b5-4439-96e2-98977bfe317f",
   "metadata": {
    "pycharm": {
     "name": "#%%\n"
    }
   },
   "outputs": [
    {
     "name": "stdout",
     "output_type": "stream",
     "text": [
      "+---+-------------------------+----------+\n",
      "|ID |Name                     |FileFormat|\n",
      "+---+-------------------------+----------+\n",
      "|1  |GDB_SystemCatalog        |0         |\n",
      "|2  |GDB_DBTune               |0         |\n",
      "|3  |GDB_SpatialRefs          |0         |\n",
      "|4  |GDB_Items                |0         |\n",
      "|5  |GDB_ItemTypes            |0         |\n",
      "|6  |GDB_ItemRelationships    |0         |\n",
      "|7  |GDB_ItemRelationshipTypes|0         |\n",
      "|8  |GDB_ReplicaLog           |2         |\n",
      "|9  |Test                     |0         |\n",
      "+---+-------------------------+----------+\n",
      "\n"
     ]
    },
    {
     "name": "stderr",
     "output_type": "stream",
     "text": [
      "                                                                                "
     ]
    }
   ],
   "source": [
    "spark.read.format(\"gdb\").options(path=\"../data/test.gdb\").load().show(truncate=False)"
   ]
  },
  {
   "cell_type": "markdown",
   "id": "0ab912f3-a840-4c0f-b6fc-57d2b969f503",
   "metadata": {
    "pycharm": {
     "name": "#%% md\n"
    }
   },
   "source": [
    "### Read `Test` feature class."
   ]
  },
  {
   "cell_type": "code",
   "execution_count": 3,
   "id": "c5798903-f77a-4b4d-8c18-a9a755877812",
   "metadata": {
    "pycharm": {
     "name": "#%%\n"
    }
   },
   "outputs": [],
   "source": [
    "df = spark.read.format(\"gdb\").options(path=\"../data/test.gdb\", name=\"Test\").load()"
   ]
  },
  {
   "cell_type": "code",
   "execution_count": 4,
   "id": "30c5bd7e-4aae-4b05-9e08-49d2724e79b7",
   "metadata": {
    "pycharm": {
     "name": "#%%\n"
    }
   },
   "outputs": [
    {
     "name": "stdout",
     "output_type": "stream",
     "text": [
      "root\n",
      " |-- OBJECTID: integer (nullable = false)\n",
      " |-- Shape: struct (nullable = true)\n",
      " |    |-- x: double (nullable = true)\n",
      " |    |-- y: double (nullable = true)\n",
      " |-- AText: string (nullable = true)\n",
      " |-- ALong: integer (nullable = true)\n",
      " |-- ADouble: double (nullable = true)\n",
      " |-- ADate: timestamp (nullable = true)\n",
      " |-- AFloat: float (nullable = true)\n",
      "\n"
     ]
    }
   ],
   "source": [
    "df.printSchema()"
   ]
  },
  {
   "cell_type": "code",
   "execution_count": 6,
   "id": "1d0308cf-eaa5-4ce4-a738-340bddca4f99",
   "metadata": {},
   "outputs": [],
   "source": [
    "def geom_type_to_str(layer_geom_type: int) -> str:\n",
    "    if layer_geom_type == 1:\n",
    "        return \"point\"\n",
    "    if layer_geom_type == 2:\n",
    "        return \"multipoint\"\n",
    "    if layer_geom_type == 3:\n",
    "        return \"polyline\"\n",
    "    if layer_geom_type == 4:\n",
    "        return \"polygon\"\n",
    "    if layer_geom_type == 9:\n",
    "        return \"multipatch\"\n",
    "    return \"unknown\""
   ]
  },
  {
   "cell_type": "markdown",
   "id": "b4e19a7b-2788-4635-87ed-b324bcab82c8",
   "metadata": {
    "pycharm": {
     "name": "#%% md\n"
    }
   },
   "source": [
    "### Get `Shape` field metadata."
   ]
  },
  {
   "cell_type": "code",
   "execution_count": 11,
   "id": "d30eef63-7fed-4589-8f0e-3637d57f5320",
   "metadata": {
    "pycharm": {
     "name": "#%%\n"
    }
   },
   "outputs": [
    {
     "name": "stdout",
     "output_type": "stream",
     "text": [
      "point\n",
      "hasM = False hasZ = False\n",
      "34.455369428000004\n",
      "25.270785538000005\n",
      "25.413723117000004\n",
      "36.415447984000004\n",
      "GEOGCS[\"GCS_WGS_1984\",DATUM[\"D_WGS_1984\",SPHEROID[\"WGS_1984\",6378137.0,298.257223563]],PRIMEM[\"Greenwich\",0.0],UNIT[\"Degree\",0.0174532925199433]]\n",
      "4326\n"
     ]
    }
   ],
   "source": [
    "for f in df.schema:\n",
    "    if f.name.lower() == \"shape\":\n",
    "        print(geom_type_to_str(f.metadata[\"geomType\"]))\n",
    "        print(\"hasM =\", f.metadata[\"hasM\"], \"hasZ =\", f.metadata[\"hasZ\"])\n",
    "        print(f.metadata[\"ymax\"])\n",
    "        print(f.metadata[\"ymin\"])\n",
    "        print(f.metadata[\"xmin\"])\n",
    "        print(f.metadata[\"xmax\"])\n",
    "        print(f.metadata[\"srsWKT\"])\n",
    "        crs = CRS.from_wkt(f.metadata[\"srsWKT\"])\n",
    "        wkid = crs.to_epsg()\n",
    "        print(wkid)\n",
    "        break"
   ]
  },
  {
   "cell_type": "code",
   "execution_count": null,
   "id": "34713615-398e-40cf-a882-e3657ac44175",
   "metadata": {
    "pycharm": {
     "name": "#%%\n"
    }
   },
   "outputs": [],
   "source": [
    "(\n",
    "    df.select(\n",
    "        \"OBJECTID\",\n",
    "        \"AText\",\n",
    "        \"ALong\",\n",
    "        \"ADouble\",\n",
    "        \"ADate\",\n",
    "        \"Shape.x\",\n",
    "        \"Shape.y\",\n",
    "    ).show(vertical=True, truncate=False)\n",
    ")"
   ]
  }
 ],
 "metadata": {
  "kernelspec": {
   "display_name": "Python 3 (ipykernel)",
   "language": "python",
   "name": "python3"
  },
  "language_info": {
   "codemirror_mode": {
    "name": "ipython",
    "version": 3
   },
   "file_extension": ".py",
   "mimetype": "text/x-python",
   "name": "python",
   "nbconvert_exporter": "python",
   "pygments_lexer": "ipython3",
   "version": "3.11.13"
  }
 },
 "nbformat": 4,
 "nbformat_minor": 5
}
